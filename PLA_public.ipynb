{
 "cells": [
  {
   "cell_type": "code",
   "execution_count": null,
   "metadata": {
    "collapsed": true
   },
   "outputs": [],
   "source": [
    "import pandas as pd\n",
    "import numpy as np\n",
    "import copy\n",
    "import gc"
   ]
  },
  {
   "cell_type": "markdown",
   "metadata": {},
   "source": [
    "## 作業一: Q15 PLA的data set\n",
    "#### https://www.csie.ntu.edu.tw/~htlin/mooc/datasets/mlfound_math/hw1_15_train.dat"
   ]
  },
  {
   "cell_type": "code",
   "execution_count": null,
   "metadata": {
    "collapsed": true
   },
   "outputs": [],
   "source": [
    "data_path = 'your path'\n",
    "ori_pla_df = pd.read_excel(data_path)"
   ]
  },
  {
   "cell_type": "markdown",
   "metadata": {},
   "source": [
    "# function: error_rate_estimate\n",
    "### 輸入參數:\n",
    "#### candidate_w: 特徵向量，就是訓練出來的那條線\n",
    "#### estimate_df: 驗證資料的DataFrame\n",
    "\n",
    "### 輸出結果:\n",
    "#### err_num: 預測錯誤資料筆數\n",
    "#### err_rate: 錯誤率"
   ]
  },
  {
   "cell_type": "code",
   "execution_count": null,
   "metadata": {
    "collapsed": true
   },
   "outputs": [],
   "source": [
    "def error_rate_estimate(candidate_w, estimate_df):\n",
    "    err_num = 0\n",
    "    err_rate = 0\n",
    "\n",
    "    for x in estimate_df.itertuples():\n",
    "        vec = np.array([1] + list(x[1:-1])).reshape(1,5)\n",
    "        sign = np.dot(vec, candidate_w)\n",
    "        \n",
    "        ## pass if predition same as label, accumlate if different\n",
    "        if (sign > 0 and x[-1] == 1) or (sign <= 0 and x[-1] == -1):\n",
    "            pass\n",
    "        else:\n",
    "            err_num = err_num + 1\n",
    "    err_rate = err_num/estimate_df.shape[0]\n",
    "    return (err_num, err_rate)"
   ]
  },
  {
   "cell_type": "markdown",
   "metadata": {},
   "source": [
    "## PLA"
   ]
  },
  {
   "cell_type": "code",
   "execution_count": null,
   "metadata": {
    "collapsed": true
   },
   "outputs": [],
   "source": [
    "sample_times = 2000\n",
    "sample_max_iter_times = 5\n",
    "\n",
    "#notice initial weights effects the final error rate\n",
    "init_weights = np.zeros([5, 1])\n",
    "#init_weights = np.random.rand(5).reshape(5, 1)\n",
    "\n",
    "update_limit = 50\n",
    "learning_rate = 0.5\n",
    "\n",
    "pla_df = ori_pla_df\n",
    "update_rs= []"
   ]
  },
  {
   "cell_type": "code",
   "execution_count": null,
   "metadata": {},
   "outputs": [],
   "source": [
    "for seed in range(sample_times):\n",
    "    random_df = pla_df.sample(n=pla_df.shape[0], random_state=seed).reset_index(drop=True)\n",
    "    init_weights = np.zeros([5, 1])\n",
    "    update_ct = 0\n",
    "    \n",
    "    for ran in range(sample_max_iter_times):\n",
    "        for x in random_df.itertuples():\n",
    "            vec = np.array([1] + list(x[1:-1])).reshape(1,5)\n",
    "            sign = np.dot(vec, init_weights)\n",
    "\n",
    "            if (sign > 0 and x[-1] == 1) or (sign <= 0 and x[-1] == -1):\n",
    "                pass\n",
    "            else:\n",
    "                update_ct = update_ct + 1\n",
    "                init_weights = init_weights + x[-1]*vec.T*learning_rate\n",
    "                \n",
    "        err_num, err_rate = error_rate_estimate(init_weights, random_df)\n",
    "        if err_num == 0:\n",
    "            print('資料集完全分隔')\n",
    "            break\n",
    "        \n",
    "    print('sample {} total update {} times'.format(seed, update_ct))\n",
    "    update_rs.append(update_ct)"
   ]
  },
  {
   "cell_type": "code",
   "execution_count": null,
   "metadata": {},
   "outputs": [],
   "source": [
    "sum(update_rs)/len(update_rs)"
   ]
  },
  {
   "cell_type": "markdown",
   "metadata": {},
   "source": [
    "# pocket \n",
    "### 請注意！pocket與基本的PLA只有一個地方有差別，pocket會將每次更新的weight存起來，將錯誤最少的weight作為最終結果"
   ]
  },
  {
   "cell_type": "markdown",
   "metadata": {},
   "source": [
    "## 作業一: Q18 pocket的data set\n",
    "#### https://www.csie.ntu.edu.tw/~htlin/mooc/datasets/mlfound_math/hw1_18_train.dat\n",
    "#### https://www.csie.ntu.edu.tw/~htlin/mooc/datasets/mlfound_math/hw1_18_test.dat"
   ]
  },
  {
   "cell_type": "code",
   "execution_count": null,
   "metadata": {
    "collapsed": true
   },
   "outputs": [],
   "source": [
    "pocket_data_path = 'your path'\n",
    "pocket_train_df = pd.read_excel(pocket_data_path, sheet_name='train')\n",
    "pocket_test_df = pd.read_excel(pocket_data_path, sheet_name='test')"
   ]
  },
  {
   "cell_type": "code",
   "execution_count": null,
   "metadata": {
    "collapsed": true
   },
   "outputs": [],
   "source": [
    "#ff = 'your path'\n",
    "#ori = pd.read_csv(ff,  delim_whitespace=True, names=['w1', 'w2', 'w3', 'w4', 'label'])\n",
    "#ori = pd.read_csv(ff,  sep='\\s+', names=['w1', 'w2', 'w3', 'w4', 'label'])"
   ]
  },
  {
   "cell_type": "markdown",
   "metadata": {
    "collapsed": true
   },
   "source": [
    "# random visit example with pocket"
   ]
  },
  {
   "cell_type": "code",
   "execution_count": null,
   "metadata": {
    "collapsed": true
   },
   "outputs": [],
   "source": [
    "sample_times = 2000\n",
    "sample_max_iter_times = 5\n",
    "\n",
    "#notice initial weights effects the final error rate\n",
    "init_weights = np.zeros([5, 1])\n",
    "#init_weights = np.random.rand(5).reshape(5, 1)\n",
    "\n",
    "update_limit = 50\n",
    "learning_rate = 0.5\n",
    "\n",
    "pla_df = ori_pla_df\n",
    "update_rs= []\n",
    "err_rate = []"
   ]
  },
  {
   "cell_type": "code",
   "execution_count": null,
   "metadata": {},
   "outputs": [],
   "source": [
    "for seed in range(sample_times):\n",
    "    pla_df = pocket_train_df.copy()\n",
    "    init_weights = np.zeros([5,1])\n",
    "    #init_weights = np.random.rand(5).reshape(5, 1)\n",
    "    \n",
    "    min_weights = init_weights\n",
    "    min_err, min_err_rate = error_rate_estimate(candidate_w=init_weights, estimate_df=pocket_train_df)\n",
    "    \n",
    "    update_ct = 0\n",
    "    \n",
    "    #maxium rows are double(1k) random data\n",
    "    for row in range(pla_df.shape[0]*2):\n",
    "        x = pla_df.sample(n=1).values[0]\n",
    "        vec = np.array([1] + list(x[:-1])).reshape(1,5)\n",
    "        sign = np.dot(vec, init_weights)\n",
    "\n",
    "        if (sign > 0 and x[-1] == 1) or (sign <= 0 and x[-1] == -1):\n",
    "            pass\n",
    "        else:\n",
    "            update_ct = update_ct + 1\n",
    "            init_weights = init_weights + x[-1]*vec.T\n",
    "            crr_err, crr_err_rate = error_rate_estimate(candidate_w=init_weights, estimate_df=pocket_train_df)\n",
    "            \n",
    "            #only keep minium error weight\n",
    "            if min_err > crr_err:\n",
    "                min_weights = init_weights\n",
    "                \n",
    "                #copy the integer varible value(pass by value) instead of pass by reference\n",
    "                min_err = copy.copy(crr_err)\n",
    "                min_err_rate = copy.copy(crr_err_rate)\n",
    "\n",
    "            if update_ct == update_limit:\n",
    "                #print('sample {} total update {} times'.format(seed, update_ct))\n",
    "                break\n",
    "    #notify w parameter's value, init or min           \n",
    "    test_err, test_err_rate = error_rate_estimate(candidate_w=min_weights, estimate_df=pocket_test_df)\n",
    "    \n",
    "    print('{} times epoch, test error is {}, test error rate is {}.'.format(seed, test_err, test_err_rate))\n",
    "    err_rate.append(test_err_rate)"
   ]
  },
  {
   "cell_type": "code",
   "execution_count": null,
   "metadata": {},
   "outputs": [],
   "source": [
    "sum(err_rate)/len(err_rate)"
   ]
  }
 ],
 "metadata": {
  "kernelspec": {
   "display_name": "Python [Root]",
   "language": "python",
   "name": "Python [Root]"
  },
  "language_info": {
   "codemirror_mode": {
    "name": "ipython",
    "version": 3
   },
   "file_extension": ".py",
   "mimetype": "text/x-python",
   "name": "python",
   "nbconvert_exporter": "python",
   "pygments_lexer": "ipython3",
   "version": "3.5.2"
  }
 },
 "nbformat": 4,
 "nbformat_minor": 2
}
